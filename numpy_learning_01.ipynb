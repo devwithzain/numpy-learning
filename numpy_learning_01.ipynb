{
 "cells": [
  {
   "cell_type": "code",
   "execution_count": 1,
   "id": "1c6559ba",
   "metadata": {},
   "outputs": [],
   "source": [
    "# Import numpy as np"
   ]
  },
  {
   "cell_type": "code",
   "execution_count": 2,
   "id": "ec6ca3df",
   "metadata": {},
   "outputs": [],
   "source": [
    "import numpy as np"
   ]
  },
  {
   "cell_type": "code",
   "execution_count": 3,
   "id": "2c0b4495",
   "metadata": {},
   "outputs": [],
   "source": [
    "# Create an one dimension array and store it in a variable called arr_1d, then print it"
   ]
  },
  {
   "cell_type": "code",
   "execution_count": 4,
   "id": "d7b6956d",
   "metadata": {},
   "outputs": [
    {
     "name": "stdout",
     "output_type": "stream",
     "text": [
      "[1 2 3 4]\n"
     ]
    }
   ],
   "source": [
    "arr_1d = np.array([1,2,3,4])\n",
    "print(arr_1d)"
   ]
  },
  {
   "cell_type": "code",
   "execution_count": 5,
   "id": "e15f8c28",
   "metadata": {},
   "outputs": [],
   "source": [
    "# Check the type of the variable called arr_1d"
   ]
  },
  {
   "cell_type": "code",
   "execution_count": 6,
   "id": "f80970f2",
   "metadata": {},
   "outputs": [
    {
     "data": {
      "text/plain": [
       "numpy.ndarray"
      ]
     },
     "execution_count": 6,
     "metadata": {},
     "output_type": "execute_result"
    }
   ],
   "source": [
    "type(arr_1d)"
   ]
  },
  {
   "cell_type": "code",
   "execution_count": 7,
   "id": "dc5c7296",
   "metadata": {},
   "outputs": [],
   "source": [
    "# Check the dimension of the array"
   ]
  },
  {
   "cell_type": "code",
   "execution_count": 8,
   "id": "38baa9df",
   "metadata": {},
   "outputs": [
    {
     "data": {
      "text/plain": [
       "1"
      ]
     },
     "execution_count": 8,
     "metadata": {},
     "output_type": "execute_result"
    }
   ],
   "source": [
    "arr_1d.ndim"
   ]
  },
  {
   "cell_type": "code",
   "execution_count": 9,
   "id": "78811875",
   "metadata": {},
   "outputs": [],
   "source": [
    "# Create an two dimension array and store it in a variable called arr_2d, then print it"
   ]
  },
  {
   "cell_type": "code",
   "execution_count": 10,
   "id": "833f3973",
   "metadata": {},
   "outputs": [
    {
     "name": "stdout",
     "output_type": "stream",
     "text": [
      "[[1 2 3 4]\n",
      " [5 6 7 8]]\n"
     ]
    }
   ],
   "source": [
    "arr_2d = np.array([[1,2,3,4],[5,6,7,8]])\n",
    "print(arr_2d)"
   ]
  },
  {
   "cell_type": "code",
   "execution_count": 11,
   "id": "54dc0fd9",
   "metadata": {},
   "outputs": [],
   "source": [
    "# Check the type of the variable called arr_2d"
   ]
  },
  {
   "cell_type": "code",
   "execution_count": 12,
   "id": "ef1427d1",
   "metadata": {},
   "outputs": [
    {
     "data": {
      "text/plain": [
       "numpy.ndarray"
      ]
     },
     "execution_count": 12,
     "metadata": {},
     "output_type": "execute_result"
    }
   ],
   "source": [
    "type(arr_2d)"
   ]
  },
  {
   "cell_type": "code",
   "execution_count": 13,
   "id": "339eeb60",
   "metadata": {},
   "outputs": [],
   "source": [
    "# Check the dimension of the array"
   ]
  },
  {
   "cell_type": "code",
   "execution_count": 14,
   "id": "e0c71e93",
   "metadata": {},
   "outputs": [
    {
     "data": {
      "text/plain": [
       "2"
      ]
     },
     "execution_count": 14,
     "metadata": {},
     "output_type": "execute_result"
    }
   ],
   "source": [
    "arr_2d.ndim"
   ]
  },
  {
   "cell_type": "code",
   "execution_count": 15,
   "id": "a3839066",
   "metadata": {},
   "outputs": [],
   "source": [
    "# Check the size of the array"
   ]
  },
  {
   "cell_type": "code",
   "execution_count": 16,
   "id": "fd24a005",
   "metadata": {},
   "outputs": [
    {
     "data": {
      "text/plain": [
       "8"
      ]
     },
     "execution_count": 16,
     "metadata": {},
     "output_type": "execute_result"
    }
   ],
   "source": [
    "arr_2d.size"
   ]
  },
  {
   "cell_type": "code",
   "execution_count": 17,
   "id": "9aa59546",
   "metadata": {},
   "outputs": [],
   "source": [
    "# Check the shape of the array"
   ]
  },
  {
   "cell_type": "code",
   "execution_count": 18,
   "id": "d210e4c6",
   "metadata": {},
   "outputs": [
    {
     "data": {
      "text/plain": [
       "(2, 4)"
      ]
     },
     "execution_count": 18,
     "metadata": {},
     "output_type": "execute_result"
    }
   ],
   "source": [
    "arr_2d.shape"
   ]
  },
  {
   "cell_type": "code",
   "execution_count": 19,
   "id": "7a4c9322",
   "metadata": {},
   "outputs": [],
   "source": [
    "# Tuples (2rows, 4colomns)"
   ]
  },
  {
   "cell_type": "code",
   "execution_count": 20,
   "id": "a8897b36",
   "metadata": {},
   "outputs": [],
   "source": [
    "# Check the data type of the array"
   ]
  },
  {
   "cell_type": "code",
   "execution_count": 21,
   "id": "d8160eb5",
   "metadata": {},
   "outputs": [
    {
     "data": {
      "text/plain": [
       "dtype('int32')"
      ]
     },
     "execution_count": 21,
     "metadata": {},
     "output_type": "execute_result"
    }
   ],
   "source": [
    "arr_2d.dtype"
   ]
  },
  {
   "cell_type": "code",
   "execution_count": 22,
   "id": "92a9c2a5",
   "metadata": {},
   "outputs": [],
   "source": [
    "asd = arr_1d + arr_2d"
   ]
  },
  {
   "cell_type": "code",
   "execution_count": null,
   "id": "8f4dde94",
   "metadata": {},
   "outputs": [],
   "source": []
  }
 ],
 "metadata": {
  "kernelspec": {
   "display_name": "Python 3 (ipykernel)",
   "language": "python",
   "name": "python3"
  },
  "language_info": {
   "codemirror_mode": {
    "name": "ipython",
    "version": 3
   },
   "file_extension": ".py",
   "mimetype": "text/x-python",
   "name": "python",
   "nbconvert_exporter": "python",
   "pygments_lexer": "ipython3",
   "version": "3.11.0"
  }
 },
 "nbformat": 4,
 "nbformat_minor": 5
}
