{
 "cells": [
  {
   "cell_type": "code",
   "execution_count": 2,
   "metadata": {},
   "outputs": [],
   "source": [
    "# Imports the numpy and random modules\n",
    "import numpy as np\n",
    "import random "
   ]
  },
  {
   "cell_type": "code",
   "execution_count": 3,
   "metadata": {},
   "outputs": [
    {
     "data": {
      "text/plain": [
       "array([0.48607266])"
      ]
     },
     "execution_count": 3,
     "metadata": {},
     "output_type": "execute_result"
    }
   ],
   "source": [
    "# Returns a 1-D array containing a single random float between 0 and 1\n",
    "np.random.random(1)"
   ]
  },
  {
   "cell_type": "code",
   "execution_count": 7,
   "metadata": {},
   "outputs": [
    {
     "data": {
      "text/plain": [
       "array([[0.12545938, 0.86662644, 0.4811359 ],\n",
       "       [0.42914884, 0.35041779, 0.01089962],\n",
       "       [0.96037636, 0.79891321, 0.53776777]])"
      ]
     },
     "execution_count": 7,
     "metadata": {},
     "output_type": "execute_result"
    }
   ],
   "source": [
    "# Generates a 3x3 array with random floats between 0 and 1\n",
    "np.random.random((3,3))   \n"
   ]
  },
  {
   "cell_type": "code",
   "execution_count": 8,
   "metadata": {},
   "outputs": [
    {
     "data": {
      "text/plain": [
       "57"
      ]
     },
     "execution_count": 8,
     "metadata": {},
     "output_type": "execute_result"
    }
   ],
   "source": [
    "# Returns a random integer between 1 and 100\n",
    "np.random.randint(1,100)"
   ]
  },
  {
   "cell_type": "code",
   "execution_count": 9,
   "metadata": {},
   "outputs": [
    {
     "data": {
      "text/plain": [
       "array([[ 1, 86, 13, 82, 85,  6, 57, 48, 17, 77],\n",
       "       [53, 17, 20, 11, 70, 93, 67,  3, 94, 79],\n",
       "       [54, 10, 92, 58, 14, 38, 65, 82,  7, 93],\n",
       "       [32, 38, 12, 97, 40,  6,  5, 26, 46, 81],\n",
       "       [64, 56, 50, 88, 63, 26, 25,  4, 23, 12],\n",
       "       [77, 13, 58, 89, 49, 11, 90, 46, 91, 24],\n",
       "       [68, 59, 60, 42, 44, 30, 40, 80, 74, 26],\n",
       "       [ 3, 23, 72,  1, 88, 89, 38, 34, 23, 29],\n",
       "       [76, 28,  2, 16, 70, 30, 60, 94, 30, 25],\n",
       "       [53, 68, 21, 78, 23, 30, 43, 31, 85, 28]])"
      ]
     },
     "execution_count": 9,
     "metadata": {},
     "output_type": "execute_result"
    }
   ],
   "source": [
    "# Generates a 10x10 array with random integers between 1 and 100\n",
    "np.random.randint(1,100,(10,10))"
   ]
  },
  {
   "cell_type": "code",
   "execution_count": 12,
   "metadata": {},
   "outputs": [
    {
     "data": {
      "text/plain": [
       "array([[[3, 5, 1],\n",
       "        [1, 5, 7],\n",
       "        [5, 6, 4]],\n",
       "\n",
       "       [[3, 2, 2],\n",
       "        [6, 3, 4],\n",
       "        [3, 4, 1]]])"
      ]
     },
     "execution_count": 12,
     "metadata": {},
     "output_type": "execute_result"
    }
   ],
   "source": [
    "# Generates a 3D array with shape (2, 3, 3) containing\n",
    "# random integers between 1 and 7 inclusive\n",
    "np.random.randint(1,8,(2,3,3))"
   ]
  },
  {
   "cell_type": "code",
   "execution_count": 13,
   "metadata": {},
   "outputs": [
    {
     "data": {
      "text/plain": [
       "array([[2, 2, 1, 4, 1, 2, 4, 1, 2, 2],\n",
       "       [1, 2, 2, 3, 1, 2, 1, 3, 1, 3],\n",
       "       [1, 4, 1, 1, 4, 4, 3, 1, 4, 3],\n",
       "       [3, 2, 1, 1, 3, 2, 4, 3, 2, 2],\n",
       "       [2, 4, 2, 3, 2, 1, 3, 3, 3, 2],\n",
       "       [1, 2, 4, 2, 1, 4, 3, 2, 2, 3],\n",
       "       [4, 3, 1, 4, 1, 3, 1, 2, 4, 3],\n",
       "       [1, 3, 4, 1, 4, 2, 3, 4, 4, 1],\n",
       "       [2, 1, 3, 1, 1, 1, 2, 1, 4, 1],\n",
       "       [1, 3, 1, 3, 3, 1, 4, 2, 1, 4]])"
      ]
     },
     "execution_count": 13,
     "metadata": {},
     "output_type": "execute_result"
    }
   ],
   "source": [
    "# Sets the random seed to 10\n",
    "# Generates a 10x10 array of random integers between 1 and 5\n",
    "np.random.seed(10)\n",
    "np.random.randint(1,5,(10,10))"
   ]
  },
  {
   "cell_type": "code",
   "execution_count": 16,
   "metadata": {},
   "outputs": [
    {
     "data": {
      "text/plain": [
       "array([0.43401399])"
      ]
     },
     "execution_count": 16,
     "metadata": {},
     "output_type": "execute_result"
    }
   ],
   "source": [
    "# Generate a 1-dimensional array containing \n",
    "# random values between 0 and 1\n",
    "np.random.rand(1)"
   ]
  },
  {
   "cell_type": "code",
   "execution_count": 19,
   "metadata": {},
   "outputs": [
    {
     "data": {
      "text/plain": [
       "array([[0.65039718, 0.60103895],\n",
       "       [0.8052232 , 0.52164715]])"
      ]
     },
     "execution_count": 19,
     "metadata": {},
     "output_type": "execute_result"
    }
   ],
   "source": [
    "# Generates a 2 x 2 array with random values between 0 and 1\n",
    "np.random.rand(2,2)"
   ]
  },
  {
   "cell_type": "code",
   "execution_count": 20,
   "metadata": {},
   "outputs": [
    {
     "data": {
      "text/plain": [
       "array([[-0.27124799,  0.61320418, -0.26731719],\n",
       "       [-0.54930901,  0.1327083 , -0.47614201],\n",
       "       [ 1.30847308,  0.19501328,  0.40020999]])"
      ]
     },
     "execution_count": 20,
     "metadata": {},
     "output_type": "execute_result"
    }
   ],
   "source": [
    "# Generate a 3x3 array containing random values sampled from a standard normal distribution\n",
    "np.random.randn(3,3)"
   ]
  },
  {
   "cell_type": "code",
   "execution_count": 24,
   "metadata": {},
   "outputs": [
    {
     "data": {
      "text/plain": [
       "1"
      ]
     },
     "execution_count": 24,
     "metadata": {},
     "output_type": "execute_result"
    }
   ],
   "source": [
    "# Selects a random sample from the given list.\n",
    "list = [1,2,3,4,5]\n",
    "np.random.choice(list)"
   ]
  },
  {
   "cell_type": "code",
   "execution_count": 27,
   "metadata": {},
   "outputs": [
    {
     "name": "stdout",
     "output_type": "stream",
     "text": [
      "1\n",
      "3\n",
      "5\n",
      "3\n",
      "1\n",
      "1\n",
      "3\n",
      "4\n",
      "1\n",
      "5\n",
      "5\n"
     ]
    }
   ],
   "source": [
    "# Generate 11 random samples from the list variable using np.random.choice\n",
    "for i in range(11):\n",
    "    print(np.random.choice(list))"
   ]
  },
  {
   "cell_type": "code",
   "execution_count": 28,
   "metadata": {},
   "outputs": [
    {
     "data": {
      "text/plain": [
       "array([5, 2, 4, 3, 1])"
      ]
     },
     "execution_count": 28,
     "metadata": {},
     "output_type": "execute_result"
    }
   ],
   "source": [
    "\"\"\"\n",
    "Randomly permute a sequence / generate a random permutation of a list.\n",
    "\n",
    "Parameters\n",
    "----------\n",
    "list : array_like\n",
    "    Input array to permute.\n",
    "\n",
    "Returns\n",
    "-------\n",
    "permuted_list : ndarray\n",
    "    Permuted array.\n",
    "\"\"\"\n",
    "np.random.permutation(list)"
   ]
  }
 ],
 "metadata": {
  "kernelspec": {
   "display_name": "Python 3",
   "language": "python",
   "name": "python3"
  },
  "language_info": {
   "codemirror_mode": {
    "name": "ipython",
    "version": 3
   },
   "file_extension": ".py",
   "mimetype": "text/x-python",
   "name": "python",
   "nbconvert_exporter": "python",
   "pygments_lexer": "ipython3",
   "version": "3.11.0"
  }
 },
 "nbformat": 4,
 "nbformat_minor": 2
}
