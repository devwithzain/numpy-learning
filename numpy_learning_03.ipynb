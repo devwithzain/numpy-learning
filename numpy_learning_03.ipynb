{
 "cells": [
  {
   "cell_type": "code",
   "execution_count": 28,
   "id": "0b5744da",
   "metadata": {},
   "outputs": [],
   "source": [
    "import numpy as np"
   ]
  },
  {
   "cell_type": "code",
   "execution_count": 31,
   "id": "fce7f802",
   "metadata": {},
   "outputs": [
    {
     "name": "stdout",
     "output_type": "stream",
     "text": [
      "[0 2 4 6 8]\n"
     ]
    }
   ],
   "source": [
    "# What is arange function in numpy?\n",
    "# A: Certainly! The numpy.arange() function creates arrays with evenly spaced values within a specified interval. It allows you to define the start, stop, and step size for generating the array. \n",
    "# For example:\n",
    "\n",
    "# Generate an array from 0 to 9 (exclusive) with a step of 2\n",
    "my_array = np.arange(start=0, stop=10, step=2)\n",
    "print(my_array)\n"
   ]
  },
  {
   "cell_type": "code",
   "execution_count": 33,
   "id": "2c289258",
   "metadata": {},
   "outputs": [
    {
     "name": "stdout",
     "output_type": "stream",
     "text": [
      "[2.   2.25 2.5  2.75 3.  ]\n"
     ]
    }
   ],
   "source": [
    "# What is linespace function in numpy?\n",
    "# A:  The numpy.linspace() function in NumPy creates an array of evenly spaced numbers within a specified interval. It allows you to define the start and end points of the sequence, along with the number of evenly spaced samples you want to generate between them. For Example:\n",
    "\n",
    "my_array = np.linspace(start=2.0, stop=3.0, num=5)\n",
    "print(my_array)\n"
   ]
  },
  {
   "cell_type": "code",
   "execution_count": 35,
   "id": "b447acfb",
   "metadata": {},
   "outputs": [
    {
     "name": "stdout",
     "output_type": "stream",
     "text": [
      "[[0 1]\n",
      " [2 3]\n",
      " [4 5]]\n"
     ]
    }
   ],
   "source": [
    "# What is reshape function in numpy?\n",
    "# A: The numpy.reshape() function in NumPy allows you to give a new shape to an array without changing its data.\n",
    "# For Example.\n",
    "\n",
    "a = np.arange(6).reshape((3, 2))\n",
    "print(a)"
   ]
  },
  {
   "cell_type": "code",
   "execution_count": 37,
   "id": "736182ae",
   "metadata": {},
   "outputs": [
    {
     "name": "stdout",
     "output_type": "stream",
     "text": [
      "[1 2 3 4 5 6]\n"
     ]
    }
   ],
   "source": [
    "# What is ravel function in numpy?\n",
    "# A: The numpy.ravel() function in NumPy returns a contiguous flattened array. It transforms a multi-dimensional array into a 1-D array by concatenating its elements along a single axis.\n",
    "# For Example:\n",
    "\n",
    "x = np.array([[1, 2, 3], [4, 5, 6]])\n",
    "flattened_array = np.ravel(x)\n",
    "print(flattened_array)  \n"
   ]
  },
  {
   "cell_type": "code",
   "execution_count": 38,
   "id": "85b2a921",
   "metadata": {},
   "outputs": [
    {
     "name": "stdout",
     "output_type": "stream",
     "text": [
      "[1 2 3 4]\n",
      "[1 3 2 4]\n"
     ]
    }
   ],
   "source": [
    "# What is flatten funtion in numpy?\n",
    "# A: The numpy.ndarray.flatten() function in NumPy returns a copy of an array collapsed into one dimension. It transforms a multi-dimensional array into a 1-D array by concatenating its elements along a single axis. You can specify the order of flattening, such as row-major (‘C’) or column-major (‘F’) order12. \n",
    "# For example:\n",
    "\n",
    "# Create a 2D array\n",
    "a = np.array([[1, 2], [3, 4]])\n",
    "\n",
    "# Flatten the array (default: row-major order)\n",
    "flattened_array = a.flatten()\n",
    "print(flattened_array) \n",
    "\n",
    "# Flatten with column-major order\n",
    "flattened_column_major = a.flatten(order='F')\n",
    "print(flattened_column_major) "
   ]
  },
  {
   "cell_type": "code",
   "execution_count": 39,
   "id": "f133fcad",
   "metadata": {},
   "outputs": [
    {
     "name": "stdout",
     "output_type": "stream",
     "text": [
      "[[1 3]\n",
      " [2 4]]\n"
     ]
    }
   ],
   "source": [
    "# What is transpose funtion in numpy?\n",
    "# A: The numpy.transpose() function in NumPy reverses or permutes the axes of an ndarray.\n",
    "\n",
    "import numpy as np\n",
    "\n",
    "a = np.array([[1, 2], [3, 4]])\n",
    "transposed_array = np.transpose(a)\n",
    "print(transposed_array)"
   ]
  }
 ],
 "metadata": {
  "kernelspec": {
   "display_name": "Python 3 (ipykernel)",
   "language": "python",
   "name": "python3"
  },
  "language_info": {
   "codemirror_mode": {
    "name": "ipython",
    "version": 3
   },
   "file_extension": ".py",
   "mimetype": "text/x-python",
   "name": "python",
   "nbconvert_exporter": "python",
   "pygments_lexer": "ipython3",
   "version": "3.11.0"
  }
 },
 "nbformat": 4,
 "nbformat_minor": 5
}
